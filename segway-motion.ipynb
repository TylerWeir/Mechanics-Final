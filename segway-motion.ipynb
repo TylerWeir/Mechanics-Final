{
 "cells": [
  {
   "cell_type": "markdown",
   "id": "851f5bcb-383f-4373-a9b2-b52cd38e2911",
   "metadata": {},
   "source": [
    "# Segway Motion (Inverted Pendulum)\n",
    "In this notebook, I'll explore the motion of a segway traveling over terrain plots with a target speed."
   ]
  },
  {
   "cell_type": "code",
   "execution_count": 24,
   "id": "6454e67c-2180-46f4-a29d-aa52808c3fa3",
   "metadata": {},
   "outputs": [],
   "source": [
    "import numpy as np\n",
    "import matplotlib.pyplot as plt\n",
    "from scipy.integrate import odeint"
   ]
  },
  {
   "cell_type": "code",
   "execution_count": 25,
   "id": "68a52c09-f072-4fad-86fe-7ad511c02533",
   "metadata": {},
   "outputs": [],
   "source": [
    "%matplotlib inline"
   ]
  },
  {
   "cell_type": "markdown",
   "id": "eded816e-fa4f-421f-a17a-e81618f1c4eb",
   "metadata": {},
   "source": [
    "This is where I will do the analytical work...."
   ]
  },
  {
   "cell_type": "code",
   "execution_count": 26,
   "id": "829834d7-5d94-4b47-ae0b-19a8ca315b90",
   "metadata": {},
   "outputs": [],
   "source": [
    "### CONSTANTS\n",
    "\n",
    "# Length of the handle\n",
    "l = 1\n",
    "\n",
    "# Wheel Radius\n",
    "wheelRad = 1\n",
    "\n",
    "# Bob mass\n",
    "bobMass = 3\n",
    "\n",
    "# Wheel mass\n",
    "wheelMass = 3"
   ]
  },
  {
   "cell_type": "code",
   "execution_count": 27,
   "id": "6e1208e7-7381-420c-a8d0-61caff08a868",
   "metadata": {},
   "outputs": [],
   "source": [
    "# Define the equations of motion of the segway. \n",
    "# This is essentially the brain of the machine.\n",
    "# \n",
    "# NOTE: All motion is driven by torque about the wheel.\n",
    "\n",
    "def torque(x, y, w, theta, wBob):\n",
    "    \"\"\"Returns the torque about the wheel of the segway needed to travel at the desired speed.\"\"\"\n",
    "     \n",
    "    return null\n",
    "    "
   ]
  },
  {
   "cell_type": "code",
   "execution_count": 28,
   "id": "c88865a0-8b8f-4dd2-b78b-64369e4ef3bc",
   "metadata": {},
   "outputs": [],
   "source": [
    "def calc_bob_pos(x, y, theta):\n",
    "    \"\"\"Returns the position of the bob calculated from the state of the main wheel.\"\"\"\n",
    "    return null"
   ]
  },
  {
   "cell_type": "code",
   "execution_count": 40,
   "id": "17ece435-a0a2-4f56-8eb6-51d2172d8eb8",
   "metadata": {},
   "outputs": [],
   "source": [
    "def flat_terrain(x):\n",
    "    \"\"\"Returns the elevation y at distance x for the flat terrain.\"\"\"\n",
    "    return 1\n",
    "\n",
    "def bump_terrain(x):\n",
    "    \"\"\"Returns the elevation y at distance x for the simple bump terrain.\"\"\"\n",
    "    # Bump is from x = 12 to x = 18.\n",
    "    if (x >= 12 and x <= 18):\n",
    "        xp = x - 12\n",
    "        return -(1/8) * xp * (xp-6) + 1\n",
    "    else: \n",
    "        return 1"
   ]
  },
  {
   "cell_type": "code",
   "execution_count": null,
   "id": "950174dd-2282-4803-a477-f72224880003",
   "metadata": {},
   "outputs": [],
   "source": []
  },
  {
   "cell_type": "code",
   "execution_count": 41,
   "id": "cd1faf09-b1dc-4194-b1a3-3c1d6a10c318",
   "metadata": {},
   "outputs": [],
   "source": [
    "xList= np.linspace(0, 30, 300)\n",
    "yList = [bump_terrain(x) for x in xList]"
   ]
  },
  {
   "cell_type": "code",
   "execution_count": 42,
   "id": "7faec153-ca46-4a2e-9629-f6aed89b2c18",
   "metadata": {},
   "outputs": [
    {
     "data": {
      "text/plain": [
       "<matplotlib.legend.Legend at 0x1c02b5f2500>"
      ]
     },
     "execution_count": 42,
     "metadata": {},
     "output_type": "execute_result"
    },
    {
     "data": {
      "image/png": "[encoded data removed]",
      "text/plain": [
       "<Figure size 432x288 with 1 Axes>"
      ]
     },
     "metadata": {
      "needs_background": "light"
     },
     "output_type": "display_data"
    }
   ],
   "source": [
    "# Plot the solution\n",
    "plt.figure()\n",
    "\n",
    "plt.plot(xList, yList, 'r', label='Terrain')\n",
    "plt.ylim([0,10])\n",
    "plt.xlim([0,30])\n",
    "\n",
    "plt.legend()"
   ]
  },
  {
   "cell_type": "code",
   "execution_count": null,
   "id": "f3be876d-84fb-40a9-ba2d-5f27be2dcdfc",
   "metadata": {},
   "outputs": [],
   "source": []
  },
  {
   "cell_type": "code",
   "execution_count": null,
   "id": "1be06dca-1b4f-49fe-811e-cf81fd9048d2",
   "metadata": {},
   "outputs": [],
   "source": []
  }
 ],
 "metadata": {
  "kernelspec": {
   "display_name": "Python 3 (ipykernel)",
   "language": "python",
   "name": "python3"
  },
  "language_info": {
   "codemirror_mode": {
    "name": "ipython",
    "version": 3
   },
   "file_extension": ".py",
   "mimetype": "text/x-python",
   "name": "python",
   "nbconvert_exporter": "python",
   "pygments_lexer": "ipython3",
   "version": "3.10.0"
  }
 },
 "nbformat": 4,
 "nbformat_minor": 5
}
